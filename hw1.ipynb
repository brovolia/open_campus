{
  "nbformat": 4,
  "nbformat_minor": 0,
  "metadata": {
    "colab": {
      "provenance": [],
      "include_colab_link": true
    },
    "kernelspec": {
      "name": "python3",
      "display_name": "Python 3"
    },
    "language_info": {
      "name": "python"
    }
  },
  "cells": [
    {
      "cell_type": "markdown",
      "metadata": {
        "id": "view-in-github",
        "colab_type": "text"
      },
      "source": [
        "<a href=\"https://colab.research.google.com/github/brovolia/open_campus/blob/main/hw1.ipynb\" target=\"_parent\"><img src=\"https://colab.research.google.com/assets/colab-badge.svg\" alt=\"Open In Colab\"/></a>"
      ]
    },
    {
      "cell_type": "markdown",
      "source": [
        "# Homework Assignment: Building and Training MLP and CNN Models with PyTorch\n",
        "\n",
        "**Total Points**: 100\n",
        "\n",
        "---\n",
        "\n",
        "## **Table of Contents**\n",
        "\n",
        "1. [Introduction](#introduction)\n",
        "2. [Assignment Instructions](#instructions)\n",
        "3. [Tasks](#tasks)\n",
        "   - [1. Import Libraries and Prepare Data (10 points)](#task1)\n",
        "   - [2. Build an MLP Model (20 points)](#task2)\n",
        "   - [3. Train the MLP Model (15 points)](#task3)\n",
        "   - [4. Evaluate the MLP Model (10 points)](#task4)\n",
        "   - [5. Build a CNN Model (20 points)](#task5)\n",
        "   - [6. Train the CNN Model (15 points)](#task6)\n",
        "   - [7. Evaluate the CNN Model (10 points)](#task7)\n",
        "4. [Submission Guidelines](#submission)\n",
        "5. [Grading Criteria](#grading)\n",
        "\n",
        "---\n",
        "\n",
        "<a name=\"introduction\"></a>\n",
        "## 1. Introduction\n",
        "\n",
        "In this assignment, you will:\n",
        "\n",
        "- Build and train a **Multilayer Perceptron (MLP)**.\n",
        "- Build and train a **Convolutional Neural Network (CNN)**.\n",
        "- Use the **MNIST dataset** for training and evaluation.\n",
        "- Compare the performance of both models.\n",
        "\n",
        "---\n",
        "\n",
        "<a name=\"instructions\"></a>\n",
        "## 2. Assignment Instructions\n",
        "\n",
        "- Complete each task in the sections below.\n",
        "- **Code cells**: Fill in the missing code where indicated.\n",
        "- **Markdown cells**: Provide answers to the questions where prompted.\n",
        "- **Point values** are indicated for each task.\n",
        "\n",
        "---\n",
        "\n"
      ],
      "metadata": {
        "id": "hQZpXpTfbm1X"
      }
    },
    {
      "cell_type": "markdown",
      "source": [
        "<a name=\"tasks\"></a>\n",
        "## 3. Tasks\n"
      ],
      "metadata": {
        "id": "RxOY2FdmcbL1"
      }
    },
    {
      "cell_type": "markdown",
      "source": [
        "<a name=\"task1\"></a>\n",
        "### Task 1: Import Libraries and Prepare Data (10 points)"
      ],
      "metadata": {
        "id": "xXXrzOTMcgxa"
      }
    },
    {
      "cell_type": "markdown",
      "source": [
        "#### a. Import the necessary libraries. (2 points)"
      ],
      "metadata": {
        "id": "T0ivUn9icTDA"
      }
    },
    {
      "cell_type": "code",
      "source": [
        "# Import PyTorch and other required libraries\n",
        "import torch\n",
        "from torchvision import datasets, transforms\n",
        "import torch.nn as nn\n",
        "import torch.nn.functional as F\n",
        "import torch.optim as optim"
      ],
      "metadata": {
        "id": "8x2TpXo8bn04"
      },
      "execution_count": 14,
      "outputs": []
    },
    {
      "cell_type": "code",
      "source": [
        "!ls"
      ],
      "metadata": {
        "colab": {
          "base_uri": "https://localhost:8080/"
        },
        "id": "QAuy8kZiluCE",
        "outputId": "1e3cb20d-df23-43de-d703-16320eb1b78b"
      },
      "execution_count": 2,
      "outputs": [
        {
          "output_type": "stream",
          "name": "stdout",
          "text": [
            "sample_data\n"
          ]
        }
      ]
    },
    {
      "cell_type": "markdown",
      "source": [
        "b. Prepare the data loaders for the MNIST dataset. (8 points)\n",
        "- Apply transformations to normalize the data.\n",
        "- Create training and test datasets and loaders."
      ],
      "metadata": {
        "id": "HKN1VEvGcpnc"
      }
    },
    {
      "cell_type": "code",
      "source": [
        "# Define transformations for the training and testing data\n",
        "transform = transforms.Compose([\n",
        "    transforms.ToTensor(),  # Convert images to PyTorch tensors\n",
        "    transforms.Normalize((0.5,), (0.5,))  # Normalize with mean=0.5, std=0.5\n",
        "])\n",
        "\n",
        "# Download and load the training and test datasets\n",
        "train_dataset = datasets.MNIST(root='./data', train=True, download=True, transform=transform)\n",
        "test_dataset  = datasets.MNIST(root='./data', train=False, download=True, transform=transform)\n",
        "\n",
        "# Create DataLoaders for managing batches\n",
        "train_loader = torch.utils.data.DataLoader(dataset=train_dataset, batch_size=64, shuffle=True)\n",
        "test_loader  = torch.utils.data.DataLoader(dataset=test_dataset, batch_size=1000, shuffle=False)\n"
      ],
      "metadata": {
        "id": "JDQZwvSCcu3v",
        "colab": {
          "base_uri": "https://localhost:8080/"
        },
        "outputId": "dc614cf0-c067-4655-fa05-3b5dbeadb623"
      },
      "execution_count": 3,
      "outputs": [
        {
          "output_type": "stream",
          "name": "stdout",
          "text": [
            "Downloading http://yann.lecun.com/exdb/mnist/train-images-idx3-ubyte.gz\n",
            "Failed to download (trying next):\n",
            "HTTP Error 403: Forbidden\n",
            "\n",
            "Downloading https://ossci-datasets.s3.amazonaws.com/mnist/train-images-idx3-ubyte.gz\n",
            "Downloading https://ossci-datasets.s3.amazonaws.com/mnist/train-images-idx3-ubyte.gz to ./data/MNIST/raw/train-images-idx3-ubyte.gz\n"
          ]
        },
        {
          "output_type": "stream",
          "name": "stderr",
          "text": [
            "100%|██████████| 9.91M/9.91M [00:00<00:00, 38.2MB/s]\n"
          ]
        },
        {
          "output_type": "stream",
          "name": "stdout",
          "text": [
            "Extracting ./data/MNIST/raw/train-images-idx3-ubyte.gz to ./data/MNIST/raw\n",
            "\n",
            "Downloading http://yann.lecun.com/exdb/mnist/train-labels-idx1-ubyte.gz\n",
            "Failed to download (trying next):\n",
            "HTTP Error 403: Forbidden\n",
            "\n",
            "Downloading https://ossci-datasets.s3.amazonaws.com/mnist/train-labels-idx1-ubyte.gz\n",
            "Downloading https://ossci-datasets.s3.amazonaws.com/mnist/train-labels-idx1-ubyte.gz to ./data/MNIST/raw/train-labels-idx1-ubyte.gz\n"
          ]
        },
        {
          "output_type": "stream",
          "name": "stderr",
          "text": [
            "100%|██████████| 28.9k/28.9k [00:00<00:00, 1.22MB/s]\n"
          ]
        },
        {
          "output_type": "stream",
          "name": "stdout",
          "text": [
            "Extracting ./data/MNIST/raw/train-labels-idx1-ubyte.gz to ./data/MNIST/raw\n",
            "\n",
            "Downloading http://yann.lecun.com/exdb/mnist/t10k-images-idx3-ubyte.gz\n",
            "Failed to download (trying next):\n",
            "HTTP Error 403: Forbidden\n",
            "\n",
            "Downloading https://ossci-datasets.s3.amazonaws.com/mnist/t10k-images-idx3-ubyte.gz\n",
            "Downloading https://ossci-datasets.s3.amazonaws.com/mnist/t10k-images-idx3-ubyte.gz to ./data/MNIST/raw/t10k-images-idx3-ubyte.gz\n"
          ]
        },
        {
          "output_type": "stream",
          "name": "stderr",
          "text": [
            "100%|██████████| 1.65M/1.65M [00:00<00:00, 10.3MB/s]\n"
          ]
        },
        {
          "output_type": "stream",
          "name": "stdout",
          "text": [
            "Extracting ./data/MNIST/raw/t10k-images-idx3-ubyte.gz to ./data/MNIST/raw\n",
            "\n",
            "Downloading http://yann.lecun.com/exdb/mnist/t10k-labels-idx1-ubyte.gz\n",
            "Failed to download (trying next):\n",
            "HTTP Error 403: Forbidden\n",
            "\n",
            "Downloading https://ossci-datasets.s3.amazonaws.com/mnist/t10k-labels-idx1-ubyte.gz\n",
            "Downloading https://ossci-datasets.s3.amazonaws.com/mnist/t10k-labels-idx1-ubyte.gz to ./data/MNIST/raw/t10k-labels-idx1-ubyte.gz\n"
          ]
        },
        {
          "output_type": "stream",
          "name": "stderr",
          "text": [
            "100%|██████████| 4.54k/4.54k [00:00<00:00, 3.45MB/s]"
          ]
        },
        {
          "output_type": "stream",
          "name": "stdout",
          "text": [
            "Extracting ./data/MNIST/raw/t10k-labels-idx1-ubyte.gz to ./data/MNIST/raw\n",
            "\n"
          ]
        },
        {
          "output_type": "stream",
          "name": "stderr",
          "text": [
            "\n"
          ]
        }
      ]
    },
    {
      "cell_type": "code",
      "source": [
        "!ls data/MNIST/"
      ],
      "metadata": {
        "colab": {
          "base_uri": "https://localhost:8080/"
        },
        "id": "F6ZvTQ24l5Nf",
        "outputId": "55104b58-ad08-42bd-805d-75571dc0abcf"
      },
      "execution_count": 8,
      "outputs": [
        {
          "output_type": "stream",
          "name": "stdout",
          "text": [
            "raw\n"
          ]
        }
      ]
    },
    {
      "cell_type": "code",
      "source": [
        "len(train_dataset)"
      ],
      "metadata": {
        "colab": {
          "base_uri": "https://localhost:8080/"
        },
        "id": "0fSvBhBamGOb",
        "outputId": "052e6cd6-ac1e-45e1-87a7-61c244fcf3b5"
      },
      "execution_count": 9,
      "outputs": [
        {
          "output_type": "execute_result",
          "data": {
            "text/plain": [
              "60000"
            ]
          },
          "metadata": {},
          "execution_count": 9
        }
      ]
    },
    {
      "cell_type": "code",
      "source": [
        "len(test_dataset)"
      ],
      "metadata": {
        "colab": {
          "base_uri": "https://localhost:8080/"
        },
        "id": "gf1_RqiqmObf",
        "outputId": "b9f816b6-70da-4320-d6a2-df850d67a467"
      },
      "execution_count": 10,
      "outputs": [
        {
          "output_type": "execute_result",
          "data": {
            "text/plain": [
              "10000"
            ]
          },
          "metadata": {},
          "execution_count": 10
        }
      ]
    },
    {
      "cell_type": "markdown",
      "source": [
        "<a name=\"task2\"></a>\n",
        "\n",
        "### Task 2: Build an MLP Model (20 points)\n",
        "\n",
        "#### a. Define an MLP class with the specified architecture. (15 points)\n",
        "\n",
        "\n",
        "The MLP should have:\n",
        "- An input layer that flattens the 28x28 images.\n",
        "- Two hidden layers with 512 and 256 neurons, respectively.\n",
        "- An output layer with 10 neurons (one for each class)."
      ],
      "metadata": {
        "id": "zej_mqJZc3Zf"
      }
    },
    {
      "cell_type": "code",
      "source": [
        "class MLP(nn.Module):\n",
        "    def __init__(self):\n",
        "        super(MLP, self).__init__()\n",
        "        # TODO: Define the layers as specified\n",
        "        self.fc1 = nn.Linear(28*28, 512)\n",
        "        self.fc2 = nn.Linear(512, 256)\n",
        "        self.fc3 = nn.Linear(256, 10)\n",
        "\n",
        "    def forward(self, x):\n",
        "        # TODO: Implement the forward pass\n",
        "        x = x.view(-1, 28*28)\n",
        "        x = F.relu(self.fc1(x))\n",
        "        x = F.relu(self.fc2(x))\n",
        "        x = self.fc3(x)\n",
        "        return x"
      ],
      "metadata": {
        "id": "Y0OpPeXidGLs"
      },
      "execution_count": 12,
      "outputs": []
    },
    {
      "cell_type": "markdown",
      "source": [
        "#### b. Explain why we flatten the input images in the MLP model. (5 points)"
      ],
      "metadata": {
        "id": "wbv3_nCpdJS8"
      }
    },
    {
      "cell_type": "markdown",
      "source": [
        "**Answer:**\n",
        "The flattening converts 2D tensor into 1D tensor whcih is essential for MLP"
      ],
      "metadata": {
        "id": "mYfJsPNddTxJ"
      }
    },
    {
      "cell_type": "markdown",
      "source": [
        "<a name=\"task3\"></a>\n",
        "\n",
        "### Task 3: Train the MLP Model (15 points)\n",
        "####a. Write the training loop for the MLP model. (10 points)\n",
        "- Use the Adam optimizer and CrossEntropyLoss.\n",
        "- Train for 5 epochs."
      ],
      "metadata": {
        "id": "ZGoGfWpxdZso"
      }
    },
    {
      "cell_type": "code",
      "source": [
        "# Instantiate the model, define the loss function and the optimizer\n",
        "# Instantiate the model, define the loss function, and the optimizer\n",
        "mlp_model = MLP()\n",
        "criterion = nn.CrossEntropyLoss()\n",
        "optimizer = optim.Adam(mlp_model.parameters(), lr=0.001)\n",
        "\n",
        "# Training loop\n",
        "num_epochs = 5\n",
        "epoch_losses = []  # To store the average loss for each epoch\n",
        "\n",
        "for epoch in range(num_epochs):\n",
        "    mlp_model.train()\n",
        "    running_loss = 0.0  # Reset running loss at the start of each epoch\n",
        "\n",
        "    for batch_idx, (data, target) in enumerate(train_loader):\n",
        "        data, target = data, target  # Data is on CPU\n",
        "        optimizer.zero_grad()\n",
        "        output = mlp_model(data)\n",
        "        loss = criterion(output, target)\n",
        "        loss.backward()\n",
        "        optimizer.step()\n",
        "        running_loss += loss.item()  # Accumulate loss for the epoch\n",
        "\n",
        "    # Calculate the average loss for the epoch\n",
        "    avg_loss = running_loss / len(train_loader)\n",
        "    epoch_losses.append(avg_loss)  # Store epoch loss\n"
      ],
      "metadata": {
        "id": "vJNakMAkdiWY"
      },
      "execution_count": 34,
      "outputs": []
    },
    {
      "cell_type": "code",
      "source": [
        "mlp_model"
      ],
      "metadata": {
        "colab": {
          "base_uri": "https://localhost:8080/"
        },
        "id": "PG5hYL7ntU9e",
        "outputId": "b65fe223-a655-4f7a-9cb4-4492084e7b89"
      },
      "execution_count": 33,
      "outputs": [
        {
          "output_type": "execute_result",
          "data": {
            "text/plain": [
              "MLP(\n",
              "  (fc1): Linear(in_features=784, out_features=512, bias=True)\n",
              "  (fc2): Linear(in_features=512, out_features=256, bias=True)\n",
              "  (fc3): Linear(in_features=256, out_features=10, bias=True)\n",
              ")"
            ]
          },
          "metadata": {},
          "execution_count": 33
        }
      ]
    },
    {
      "cell_type": "code",
      "source": [
        "sum(p.numel() for p in mlp_model.parameters())"
      ],
      "metadata": {
        "colab": {
          "base_uri": "https://localhost:8080/"
        },
        "id": "b62Nn2D0tqXM",
        "outputId": "d2ad4bcd-0f16-4697-a1ec-db44d7215486"
      },
      "execution_count": 20,
      "outputs": [
        {
          "output_type": "execute_result",
          "data": {
            "text/plain": [
              "535818"
            ]
          },
          "metadata": {},
          "execution_count": 20
        }
      ]
    },
    {
      "cell_type": "code",
      "source": [
        "epoch_losses"
      ],
      "metadata": {
        "colab": {
          "base_uri": "https://localhost:8080/"
        },
        "id": "pOE-yDiyv72b",
        "outputId": "aeca1f24-ce5b-455c-ed1e-1b2b5313c58d"
      },
      "execution_count": 35,
      "outputs": [
        {
          "output_type": "execute_result",
          "data": {
            "text/plain": [
              "[0.3002882311100772,\n",
              " 0.13682673538653756,\n",
              " 0.10113890989542579,\n",
              " 0.08250256919159071,\n",
              " 0.06877679379655918]"
            ]
          },
          "metadata": {},
          "execution_count": 35
        }
      ]
    },
    {
      "cell_type": "code",
      "source": [
        "num_epochs"
      ],
      "metadata": {
        "colab": {
          "base_uri": "https://localhost:8080/"
        },
        "id": "GcyvcMfqwL7N",
        "outputId": "899eb79d-7ab5-44bd-d63c-15a6fa35ddfa"
      },
      "execution_count": 36,
      "outputs": [
        {
          "output_type": "execute_result",
          "data": {
            "text/plain": [
              "5"
            ]
          },
          "metadata": {},
          "execution_count": 36
        }
      ]
    },
    {
      "cell_type": "code",
      "source": [
        "avg_loss"
      ],
      "metadata": {
        "colab": {
          "base_uri": "https://localhost:8080/"
        },
        "id": "Ud5sEGoGwScy",
        "outputId": "f22bb3c4-6e96-4324-bafe-4b2e91181a6f"
      },
      "execution_count": 37,
      "outputs": [
        {
          "output_type": "execute_result",
          "data": {
            "text/plain": [
              "0.06877679379655918"
            ]
          },
          "metadata": {},
          "execution_count": 37
        }
      ]
    },
    {
      "cell_type": "markdown",
      "source": [
        "#### b. Plot the training loss over epochs. (5 points)"
      ],
      "metadata": {
        "id": "lukLd9e1dl-o"
      }
    },
    {
      "cell_type": "code",
      "source": [
        "# TODO: Record the loss values and plot them\n",
        "import matplotlib.pyplot as plt\n",
        "\n",
        "plt.figure(figsize=(8, 6))\n",
        "plt.plot(range(1, num_epochs + 1), epoch_losses, marker='o', linestyle='-', color='b')\n",
        "plt.title(\"Training Loss Over Epochs\")\n",
        "plt.xlabel(\"Epoch\")\n",
        "plt.ylabel(\"Loss\")\n",
        "plt.grid()\n",
        "plt.show()\n"
      ],
      "metadata": {
        "id": "D6y2qYykdpX5",
        "colab": {
          "base_uri": "https://localhost:8080/",
          "height": 564
        },
        "outputId": "60ba38a9-0b0b-4ca7-e731-27201bcbf2d1"
      },
      "execution_count": 38,
      "outputs": [
        {
          "output_type": "display_data",
          "data": {
            "text/plain": [
              "<Figure size 800x600 with 1 Axes>"
            ],
            "image/png": "[encoded data removed]"
          },
          "metadata": {}
        }
      ]
    },
    {
      "cell_type": "markdown",
      "source": [
        "<a name=\"task4\"></a>\n",
        "\n",
        "### Task 4: Evaluate the MLP Model (10 points)\n",
        "#### a. Evaluate the trained MLP model on the test dataset. (5 points)"
      ],
      "metadata": {
        "id": "5RvCGTn2d1cA"
      }
    },
    {
      "cell_type": "code",
      "source": [
        "# TODO: Implement the evaluation code\n",
        "mlp_model.eval()\n",
        "correct = 0\n",
        "total = 0\n",
        "with torch.no_grad():  # Disable gradient computation for evaluation\n",
        "    for data, target in test_loader:\n",
        "        # Forward pass\n",
        "        outputs = mlp_model(data)\n",
        "\n",
        "        # Get predicted class (index of maximum logit)\n",
        "        _, predicted = torch.max(outputs, 1)\n",
        "\n",
        "        # Update total and correct counts\n",
        "        total += target.size(0)  # Total number of samples\n",
        "        correct += (predicted == target).sum().item()  # Correct predictions\n",
        "\n",
        "# Calculate and print the accuracy\n",
        "accuracy = 100 * correct / total\n"
      ],
      "metadata": {
        "id": "UOqlzdGhdSIp"
      },
      "execution_count": 39,
      "outputs": []
    },
    {
      "cell_type": "code",
      "source": [
        "accuracy"
      ],
      "metadata": {
        "colab": {
          "base_uri": "https://localhost:8080/"
        },
        "id": "X3GEFwjSy_pP",
        "outputId": "0cc02cee-7977-4c75-daaa-3383d4ad07d7"
      },
      "execution_count": 40,
      "outputs": [
        {
          "output_type": "execute_result",
          "data": {
            "text/plain": [
              "97.72"
            ]
          },
          "metadata": {},
          "execution_count": 40
        }
      ]
    },
    {
      "cell_type": "markdown",
      "source": [
        "#### b. Report the test accuracy. (5 points)"
      ],
      "metadata": {
        "id": "eHWTvH7id_3p"
      }
    },
    {
      "cell_type": "markdown",
      "source": [
        "**Answer:** The accuracy of the MLP on the test images is **97.72%**.\n"
      ],
      "metadata": {
        "id": "3T1gq7LseH8E"
      }
    },
    {
      "cell_type": "markdown",
      "source": [
        "<a name=\"task5\"></a>\n",
        "\n",
        "### Task 5: Build a CNN Model (20 points)\n",
        "#### a. Define a CNN class with the specified architecture. (15 points)\n",
        "The CNN should have:\n",
        "- Two convolutional layers:\n",
        "-- First layer: 1 input channel, 32 output channels, kernel size 3, padding 1.\n",
        "-- Second layer: 32 input channels, 64 output channels, kernel size 3, padding 1.\n",
        "- A max pooling layer after each convolutional layer.\n",
        "- Two fully connected layers:\n",
        "-- First layer: inputs matching the flattened output from conv layers, 128 neurons.\n",
        "-- Second layer: 128 neurons, 10 output neurons."
      ],
      "metadata": {
        "id": "a7QZ8bhVeIAe"
      }
    },
    {
      "cell_type": "code",
      "source": [
        "class CNN(nn.Module):\n",
        "    def __init__(self):\n",
        "        super(CNN, self).__init__()\n",
        "        # TODO: Define the convolutional and fully connected layers\n",
        "        self.conv1 = nn.Conv2d(1, 32, kernel_size=3, padding=1)\n",
        "        self.conv2 = nn.Conv2d(32, 64, kernel_size=3, padding=1)\n",
        "        self.pool = nn.MaxPool2d(2, 2)\n",
        "        self.fc1 = nn.Linear(64 * 7 * 7, 128)\n",
        "        self.fc2 = nn.Linear(128, 10)\n",
        "\n",
        "    def forward(self, x):\n",
        "        x = self.pool(F.relu(self.conv1(x)))\n",
        "        x = self.pool(F.relu(self.conv2(x)))\n",
        "        x = x.view(-1, 64 * 7 * 7)\n",
        "        x = F.relu(self.fc1(x))\n",
        "        x = self.fc2(x)\n",
        "        return x\n"
      ],
      "metadata": {
        "id": "c5rxzlnAeF-n"
      },
      "execution_count": 41,
      "outputs": []
    },
    {
      "cell_type": "markdown",
      "source": [
        "#### b. Explain the role of convolutional layers in CNNs. (5 points)"
      ],
      "metadata": {
        "id": "Bsp8GFQYenPa"
      }
    },
    {
      "cell_type": "markdown",
      "source": [
        "# **Answer:** They extract features from the input images\n"
      ],
      "metadata": {
        "id": "qIpOncmweuCk"
      }
    },
    {
      "cell_type": "markdown",
      "source": [
        "<a name=\"task6\"></a>\n",
        "\n",
        "### Task 6: Train the CNN Model (15 points)\n",
        "### a. Write the training loop for the CNN model. (10 points)\n",
        "- Use the Adam optimizer and CrossEntropyLoss.\n",
        "- Train for 5 epochs."
      ],
      "metadata": {
        "id": "kK9JbJ2Qe1sA"
      }
    },
    {
      "cell_type": "code",
      "source": [
        "# Instantiate the model, define the loss function and the optimizer\n",
        "cnn_model = CNN()\n",
        "criterion = nn.CrossEntropyLoss()\n",
        "optimizer = optim.Adam(cnn_model.parameters(), lr=0.001)\n",
        "\n",
        "# Training loop\n",
        "num_epochs = 5\n",
        "\n",
        "for epoch in range(num_epochs):\n",
        "    cnn_model.train()\n",
        "    running_loss = 0.0\n",
        "\n",
        "    for batch_idx, (data, target) in enumerate(train_loader):\n",
        "        # Zero the gradients\n",
        "        optimizer.zero_grad()\n",
        "\n",
        "        # Forward pass\n",
        "        outputs = cnn_model(data)\n",
        "\n",
        "        # Compute the loss\n",
        "        loss = criterion(outputs, target)\n",
        "\n",
        "        # Backward pass\n",
        "        loss.backward()\n",
        "\n",
        "        # Update weights\n",
        "        optimizer.step()\n",
        "\n",
        "        # Accumulate loss\n",
        "        running_loss += loss.item()\n",
        "\n",
        "    # Average loss for the epoch\n",
        "    avg_loss = running_loss / len(train_loader)"
      ],
      "metadata": {
        "id": "7QpPlOg4evwp"
      },
      "execution_count": 42,
      "outputs": []
    },
    {
      "cell_type": "markdown",
      "source": [
        "#### b. Plot the training loss over epochs. (5 points)"
      ],
      "metadata": {
        "id": "LaBPyOMZfDth"
      }
    },
    {
      "cell_type": "code",
      "source": [
        "# TODO: Record the loss values and plot them\n",
        "import matplotlib.pyplot as plt\n",
        "\n",
        "plt.figure(figsize=(8, 6))\n",
        "plt.plot(range(1, num_epochs + 1), epoch_losses, marker='o', linestyle='-', color='b')\n",
        "plt.title(\"Training Loss Over Epochs\")\n",
        "plt.xlabel(\"Epoch\")\n",
        "plt.ylabel(\"Loss\")\n",
        "plt.grid()\n",
        "plt.show()\n"
      ],
      "metadata": {
        "id": "BMFewT3IfJTR",
        "colab": {
          "base_uri": "https://localhost:8080/",
          "height": 564
        },
        "outputId": "ca00f763-45ef-43cb-9db0-c6bc27c8ef62"
      },
      "execution_count": 43,
      "outputs": [
        {
          "output_type": "display_data",
          "data": {
            "text/plain": [
              "<Figure size 800x600 with 1 Axes>"
            ],
            "image/png": "[encoded data removed]"
          },
          "metadata": {}
        }
      ]
    },
    {
      "cell_type": "markdown",
      "source": [
        "<a name=\"task7\"></a>\n",
        "\n",
        "### Task 7: Evaluate the CNN Model (10 points)\n",
        "#### a. Evaluate the trained CNN model on the test dataset. (5 points)"
      ],
      "metadata": {
        "id": "MBxmIO6tfVHb"
      }
    },
    {
      "cell_type": "code",
      "source": [
        "# TODO: Implement the evaluation code\n",
        "cnn_model.eval()\n",
        "correct = 0\n",
        "total = 0\n",
        "with torch.no_grad():\n",
        "    for data, target in test_loader:\n",
        "        outputs = cnn_model(data)\n",
        "\n",
        "        _, predicted = torch.max(outputs, 1)\n",
        "\n",
        "        total += target.size(0)\n",
        "        correct += (predicted == target).sum().item()\n"
      ],
      "metadata": {
        "id": "FQhL2C8ifaGb"
      },
      "execution_count": 44,
      "outputs": []
    },
    {
      "cell_type": "code",
      "source": [
        "100 * correct / total"
      ],
      "metadata": {
        "colab": {
          "base_uri": "https://localhost:8080/"
        },
        "id": "OPllVrtl4mZg",
        "outputId": "53aae27e-613a-4030-980a-3de66ab544c5"
      },
      "execution_count": 45,
      "outputs": [
        {
          "output_type": "execute_result",
          "data": {
            "text/plain": [
              "98.97"
            ]
          },
          "metadata": {},
          "execution_count": 45
        }
      ]
    },
    {
      "cell_type": "markdown",
      "source": [
        "#### b. Report the test accuracy. (5 points)"
      ],
      "metadata": {
        "id": "q9brOb1CfdVJ"
      }
    },
    {
      "cell_type": "markdown",
      "source": [
        "**Answer:** The accuracy of the CNN on the test images is **98.97%**.\n"
      ],
      "metadata": {
        "id": "sWzMq0Qtfjhc"
      }
    },
    {
      "cell_type": "markdown",
      "source": [
        "<a name=\"submission\"></a>\n",
        "\n",
        "### 4. Submission Guidelines\n",
        "Submit your completed notebook in .ipynb format on private channel on Mattermost.\n",
        "- Ensure all code cells are executed and outputs are visible.\n",
        "- Provide answers to all questions in the markdown cells.\n",
        "- Include any plots or visualizations you generated."
      ],
      "metadata": {
        "id": "l36R_Bxffv1r"
      }
    },
    {
      "cell_type": "markdown",
      "source": [],
      "metadata": {
        "id": "F6-K4uPhf8lU"
      }
    }
  ]
}